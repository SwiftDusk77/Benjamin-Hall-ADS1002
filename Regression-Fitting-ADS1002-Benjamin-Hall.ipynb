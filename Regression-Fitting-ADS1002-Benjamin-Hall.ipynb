{
 "cells": [
  {
   "cell_type": "markdown",
   "id": "7c5c834a",
   "metadata": {},
   "source": [
    "# Linear Regression: Fitting Models Automatically\n",
    "\n",
    "* Topic: Supervised machine learning\n",
    "* Unit: ADS1002\n",
    "* Level: Beginner\n",
    "* Authors: Simon Bowly, Kaustav Das\n",
    "* Version: 3.1.1\n",
    "\n",
    "Required files (download these from the Gitlab site [here](https://gitlab.erc.monash.edu.au/bads/data-challenges-resources/-/tree/main/Machine-Learning/Supervised-Methods) into the same directory as the notebook on your computer):\n",
    "\n",
    "* [who-health-data.csv](https://gitlab.erc.monash.edu.au/bads/data-challenges-resources/-/tree/main/Machine-Learning/Supervised-Methods/who-health-data.csv)\n",
    "\n",
    "The objective of this notebook is to introduce the methods used to fit linear regression models. You should review last semester's linear regression work ([here](https://gitlab.erc.monash.edu.au/bads/data-challenges-resources/-/blob/main/Machine-Learning/Supervised-Methods/Regression/03-IntroLinearRegression.ipynb)) first. We'll see two ways in which this is implemented: ordinary least squares and gradient descent. Note that this is mainly to give a general idea of the algorithms used to fit machine learning models (in the training phase). You do not need to understand the full code, but you **should** ensure you understand the code which uses `sklearn`'s linear regression model, as this is how we will fit most models during this course."
   ]
  },
  {
   "cell_type": "markdown",
   "id": "ed74db1e",
   "metadata": {},
   "source": [
    "## Recall\n",
    "\n",
    "From previous work, you should be familiar with:\n",
    "\n",
    "* Regression model: a model which predicts continuous output/target values based on input/feature values.\n",
    "* Error metrics: mean absolute error, which measures the average difference between model predictions and actual target values.\n",
    "* How to fit a linear regression model using `sklearn`: a brief example is given at the end of the notebook, but you have seen this before in last semester's linear regression work.\n",
    "* Testing and training: this material covers how data is used in the training phase to fit model parameters. The testing phase, where these parameters are checked to see if they generalise to other data, is a separate step."
   ]
  },
  {
   "cell_type": "code",
   "execution_count": 2,
   "id": "8f2ae3bd",
   "metadata": {},
   "outputs": [
    {
     "data": {
      "image/png": "[encoded data removed]",
      "text/plain": [
       "<Figure size 500x500 with 1 Axes>"
      ]
     },
     "metadata": {},
     "output_type": "display_data"
    }
   ],
   "source": [
    "import pandas as pd\n",
    "import seaborn as sns\n",
    "import numpy as np\n",
    "import matplotlib.pyplot as plt\n",
    "from sklearn.metrics import mean_absolute_error, mean_squared_error\n",
    "\n",
    "# Load the same datasets as we have used previously.\n",
    "who_data_2015 = (\n",
    "    pd.read_csv(\"who-health-data.csv\") # Read in the csv data.\n",
    "    .rename(columns=lambda c: c.strip())      # Clean up column names.\n",
    "    .query(\"Year == 2015\")                    # Restrict the dataset to records from 2015.\n",
    "    # Removes two columns which contain a lot of missing data...\n",
    "    .drop(columns=[\"Alcohol\", \"Total expenditure\"])\n",
    "    # ... then drop any rows with missing values.\n",
    "    .dropna()\n",
    ")\n",
    "sns.relplot(data=who_data_2015, x=\"Schooling\", y=\"Life expectancy\");"
   ]
  },
  {
   "cell_type": "code",
   "execution_count": 20,
   "id": "c1ac97c4",
   "metadata": {},
   "outputs": [
    {
     "data": {
      "text/html": [
       "<div>\n",
       "<style scoped>\n",
       "    .dataframe tbody tr th:only-of-type {\n",
       "        vertical-align: middle;\n",
       "    }\n",
       "\n",
       "    .dataframe tbody tr th {\n",
       "        vertical-align: top;\n",
       "    }\n",
       "\n",
       "    .dataframe thead th {\n",
       "        text-align: right;\n",
       "    }\n",
       "</style>\n",
       "<table border=\"1\" class=\"dataframe\">\n",
       "  <thead>\n",
       "    <tr style=\"text-align: right;\">\n",
       "      <th></th>\n",
       "      <th>Country</th>\n",
       "      <th>Year</th>\n",
       "      <th>Status</th>\n",
       "      <th>Life expectancy</th>\n",
       "      <th>Adult Mortality</th>\n",
       "      <th>infant deaths</th>\n",
       "      <th>percentage expenditure</th>\n",
       "      <th>Hepatitis B</th>\n",
       "      <th>Measles</th>\n",
       "      <th>BMI</th>\n",
       "      <th>under-five deaths</th>\n",
       "      <th>Polio</th>\n",
       "      <th>Diphtheria</th>\n",
       "      <th>HIV/AIDS</th>\n",
       "      <th>GDP</th>\n",
       "      <th>Population</th>\n",
       "      <th>thinness  1-19 years</th>\n",
       "      <th>thinness 5-9 years</th>\n",
       "      <th>Income composition of resources</th>\n",
       "      <th>Schooling</th>\n",
       "    </tr>\n",
       "  </thead>\n",
       "  <tbody>\n",
       "    <tr>\n",
       "      <th>0</th>\n",
       "      <td>Afghanistan</td>\n",
       "      <td>2015</td>\n",
       "      <td>Developing</td>\n",
       "      <td>65.0</td>\n",
       "      <td>263.0</td>\n",
       "      <td>62</td>\n",
       "      <td>71.279624</td>\n",
       "      <td>65.0</td>\n",
       "      <td>1154</td>\n",
       "      <td>19.1</td>\n",
       "      <td>83</td>\n",
       "      <td>6.0</td>\n",
       "      <td>65.0</td>\n",
       "      <td>0.1</td>\n",
       "      <td>584.259210</td>\n",
       "      <td>33736494.0</td>\n",
       "      <td>17.2</td>\n",
       "      <td>17.3</td>\n",
       "      <td>0.479</td>\n",
       "      <td>10.1</td>\n",
       "    </tr>\n",
       "    <tr>\n",
       "      <th>16</th>\n",
       "      <td>Albania</td>\n",
       "      <td>2015</td>\n",
       "      <td>Developing</td>\n",
       "      <td>77.8</td>\n",
       "      <td>74.0</td>\n",
       "      <td>0</td>\n",
       "      <td>364.975229</td>\n",
       "      <td>99.0</td>\n",
       "      <td>0</td>\n",
       "      <td>58.0</td>\n",
       "      <td>0</td>\n",
       "      <td>99.0</td>\n",
       "      <td>99.0</td>\n",
       "      <td>0.1</td>\n",
       "      <td>3954.227830</td>\n",
       "      <td>28873.0</td>\n",
       "      <td>1.2</td>\n",
       "      <td>1.3</td>\n",
       "      <td>0.762</td>\n",
       "      <td>14.2</td>\n",
       "    </tr>\n",
       "    <tr>\n",
       "      <th>32</th>\n",
       "      <td>Algeria</td>\n",
       "      <td>2015</td>\n",
       "      <td>Developing</td>\n",
       "      <td>75.6</td>\n",
       "      <td>19.0</td>\n",
       "      <td>21</td>\n",
       "      <td>0.000000</td>\n",
       "      <td>95.0</td>\n",
       "      <td>63</td>\n",
       "      <td>59.5</td>\n",
       "      <td>24</td>\n",
       "      <td>95.0</td>\n",
       "      <td>95.0</td>\n",
       "      <td>0.1</td>\n",
       "      <td>4132.762920</td>\n",
       "      <td>39871528.0</td>\n",
       "      <td>6.0</td>\n",
       "      <td>5.8</td>\n",
       "      <td>0.743</td>\n",
       "      <td>14.4</td>\n",
       "    </tr>\n",
       "    <tr>\n",
       "      <th>48</th>\n",
       "      <td>Angola</td>\n",
       "      <td>2015</td>\n",
       "      <td>Developing</td>\n",
       "      <td>52.4</td>\n",
       "      <td>335.0</td>\n",
       "      <td>66</td>\n",
       "      <td>0.000000</td>\n",
       "      <td>64.0</td>\n",
       "      <td>118</td>\n",
       "      <td>23.3</td>\n",
       "      <td>98</td>\n",
       "      <td>7.0</td>\n",
       "      <td>64.0</td>\n",
       "      <td>1.9</td>\n",
       "      <td>3695.793748</td>\n",
       "      <td>2785935.0</td>\n",
       "      <td>8.3</td>\n",
       "      <td>8.2</td>\n",
       "      <td>0.531</td>\n",
       "      <td>11.4</td>\n",
       "    </tr>\n",
       "    <tr>\n",
       "      <th>80</th>\n",
       "      <td>Argentina</td>\n",
       "      <td>2015</td>\n",
       "      <td>Developing</td>\n",
       "      <td>76.3</td>\n",
       "      <td>116.0</td>\n",
       "      <td>8</td>\n",
       "      <td>0.000000</td>\n",
       "      <td>94.0</td>\n",
       "      <td>0</td>\n",
       "      <td>62.8</td>\n",
       "      <td>9</td>\n",
       "      <td>93.0</td>\n",
       "      <td>94.0</td>\n",
       "      <td>0.1</td>\n",
       "      <td>13467.123600</td>\n",
       "      <td>43417765.0</td>\n",
       "      <td>1.0</td>\n",
       "      <td>0.9</td>\n",
       "      <td>0.826</td>\n",
       "      <td>17.3</td>\n",
       "    </tr>\n",
       "  </tbody>\n",
       "</table>\n",
       "</div>"
      ],
      "text/plain": [
       "        Country  Year      Status  Life expectancy  Adult Mortality  \\\n",
       "0   Afghanistan  2015  Developing             65.0            263.0   \n",
       "16      Albania  2015  Developing             77.8             74.0   \n",
       "32      Algeria  2015  Developing             75.6             19.0   \n",
       "48       Angola  2015  Developing             52.4            335.0   \n",
       "80    Argentina  2015  Developing             76.3            116.0   \n",
       "\n",
       "    infant deaths  percentage expenditure  Hepatitis B  Measles   BMI  \\\n",
       "0              62               71.279624         65.0     1154  19.1   \n",
       "16              0              364.975229         99.0        0  58.0   \n",
       "32             21                0.000000         95.0       63  59.5   \n",
       "48             66                0.000000         64.0      118  23.3   \n",
       "80              8                0.000000         94.0        0  62.8   \n",
       "\n",
       "    under-five deaths  Polio  Diphtheria  HIV/AIDS           GDP  Population  \\\n",
       "0                  83    6.0        65.0       0.1    584.259210  33736494.0   \n",
       "16                  0   99.0        99.0       0.1   3954.227830     28873.0   \n",
       "32                 24   95.0        95.0       0.1   4132.762920  39871528.0   \n",
       "48                 98    7.0        64.0       1.9   3695.793748   2785935.0   \n",
       "80                  9   93.0        94.0       0.1  13467.123600  43417765.0   \n",
       "\n",
       "    thinness  1-19 years  thinness 5-9 years  Income composition of resources  \\\n",
       "0                   17.2                17.3                            0.479   \n",
       "16                   1.2                 1.3                            0.762   \n",
       "32                   6.0                 5.8                            0.743   \n",
       "48                   8.3                 8.2                            0.531   \n",
       "80                   1.0                 0.9                            0.826   \n",
       "\n",
       "    Schooling  \n",
       "0        10.1  \n",
       "16       14.2  \n",
       "32       14.4  \n",
       "48       11.4  \n",
       "80       17.3  "
      ]
     },
     "execution_count": 20,
     "metadata": {},
     "output_type": "execute_result"
    }
   ],
   "source": [
    "who_data_2015.head()"
   ]
  },
  {
   "cell_type": "markdown",
   "id": "f1220c71",
   "metadata": {},
   "source": [
    "## Linear Regression\n",
    "\n",
    "As we discussed in the previous class, in supervised machine learning we aim to choose model parameters in order to minimise an error metric. We'll consider here one of the model forms from the last notebook:\n",
    "\n",
    "$$\n",
    "\\text{Life expectancy} = M \\times \\text{Years of schooling} + C \\text{ years}.\n",
    "$$\n",
    "\n",
    "Last week we considered choosing model parameters by minimising mean absolute error (MAE). Linear regression, by constrast, minimises root mean squared error (RMSE):\n",
    "\n",
    "$$\n",
    "\\text{RMSE} = \\sqrt{\\frac{1}{N} \\sum_{i =1}^N \\left( y^{\\text{predicted}}_i - y^{\\text{actual}}_i \\right)^2}.\n",
    "$$\n",
    "\n",
    "It is (hopefully) easy to see that the square root and division by $N$ (the number of samples) only affect the scale of the error measure, and would not change the model parameters which result in minimum error. So we can equivalent find our model parameters by minimising the following function:\n",
    "\n",
    "$$\n",
    "\\min \\sum_{i = 1}^N \\left( M x_i + C - y_i \\right )^2.\n",
    "$$\n",
    "\n",
    "Here, $x_i$ represents years of schooling for sample point $i$, $y_i$ represents the true life expectancy values for the sample sample point, and $M$ and $C$ are the gradient and intercept, respectively, in the model. To derive this equation, we have substituted the linear model for $y^{\\text{predicted}}_i$, namely\n",
    "\n",
    "$$\n",
    "    y^{\\text{predicted}}_i = M x_i + C.\n",
    "$$\n",
    "\n",
    "This expression describes an **optimisation problem**, where we minimise the result over all possible values of $M$ and $C$.\n",
    "\n",
    "The cells below first reproduce the contour plots from the last notebook to visualise the error metric (denoted by the plot colour) as a function of the selected gradient and intercept parameters in the linear model. This notebook will explore two methods for finding the optimal parameters automatically: gradient descent and ordinary least squares."
   ]
  },
  {
   "cell_type": "code",
   "execution_count": 45,
   "id": "d15a7762",
   "metadata": {},
   "outputs": [],
   "source": [
    "def prediction_root_mean_squared_error(gradient, intercept):\n",
    "    \"\"\" Return the prediction error associated with the value of the parameters.\n",
    "    This time around, let's use sklearn.metrics. \"\"\"\n",
    "    predictions = who_data_2015[\"Schooling\"] * gradient + intercept\n",
    "    actual = who_data_2015[\"Life expectancy\"]\n",
    "    # Note that `squared=False` gives us RMSE. Then we're in the same units as MAE.\n",
    "    return mean_squared_error(y_true=actual, y_pred=predictions, squared=False)\n",
    "\n",
    "def prediction_mean_absolute_error(gradient, intercept):\n",
    "    \"\"\" Return the prediction error associated with the value of the parameters.\n",
    "    This time around, let's use sklearn.metrics. \"\"\"\n",
    "    predictions = who_data_2015[\"Schooling\"] * gradient + intercept\n",
    "    actual = who_data_2015[\"Life expectancy\"]\n",
    "    return mean_absolute_error(y_true=actual, y_pred=predictions)\n",
    "\n",
    "\n",
    "# Compute error values for different gradient and intercepts.\n",
    "# This will be used to build the colour contour plots.\n",
    "gradient_values, intercept_values = np.meshgrid(\n",
    "    np.linspace(0.5, 4.0, 30),\n",
    "    np.linspace(30, 80, 30),\n",
    ")\n",
    "rmse_errors = np.zeros(gradient_values.shape)\n",
    "for i in range(rmse_errors.shape[0]):\n",
    "    for j in range(rmse_errors.shape[1]):\n",
    "        rmse_errors[i, j] = prediction_root_mean_squared_error(gradient_values[i, j], intercept_values[i, j])\n",
    "mae_errors = np.zeros(gradient_values.shape)\n",
    "for i in range(mae_errors.shape[0]):\n",
    "    for j in range(mae_errors.shape[1]):\n",
    "        mae_errors[i, j] = prediction_mean_absolute_error(gradient_values[i, j], intercept_values[i, j])"
   ]
  },
  {
   "cell_type": "markdown",
   "id": "54f54db4",
   "metadata": {},
   "source": [
    "The contour plots below show MAE and RMSE for the same model and dataset. These plots are written as functions so that they can be repeated later in the notebook. Note that they are slightly differently shaped, but the smallest error values are found in roughly the same area."
   ]
  },
  {
   "cell_type": "code",
   "execution_count": 46,
   "id": "9456afba",
   "metadata": {},
   "outputs": [],
   "source": [
    "def mae_plot():\n",
    "    plt.figure()\n",
    "    plt.contourf(gradient_values, intercept_values, mae_errors)\n",
    "    plt.xlabel(\"Gradient (M)\")\n",
    "    plt.ylabel(\"Intercept (C)\")\n",
    "    plt.colorbar(label=\"Mean Absolute Error (MAE)\")\n",
    "\n",
    "def rmse_plot():\n",
    "    plt.figure()\n",
    "    plt.contourf(gradient_values, intercept_values, rmse_errors)\n",
    "    plt.xlabel(\"Gradient (M)\")\n",
    "    plt.ylabel(\"Intercept (C)\")\n",
    "    plt.colorbar(label=\"Root Mean Squared Error (RMSE)\")\n",
    "\n",
    "mae_plot()\n",
    "rmse_plot()"
   ]
  },
  {
   "cell_type": "markdown",
   "id": "565dc089",
   "metadata": {},
   "source": [
    "## Error Minimisation method 1: Gradient Descent\n",
    "\n",
    "Instead of experimenting randomly or using some visual cues in the plots to find the best model parameters, we can use a family of algorithms called gradient descent methods to find a minimum value in the error cost function. These algorithms start with a 'guess' value for the model parameters, and try to take steps in a direction which will reduce the value of the cost function. The best direction to move in is determined by estimating the gradients of the cost function at the current point (essentially, by checking nearby points to determine the steepest downward direction).\n",
    "\n",
    "These methods are extremely useful for broad classes of machine learning algorithms: as long as we can somehow define a cost function related to errors (which we want to minimise through a good choice of parameters) we should be able to find a good result through gradient descent. In the case of linear regression, the cost function is smooth and convex (essentially, it is a nicely shaped bowl), so we can be confident of getting a consistent result. In more complex models, we might see variations in the parameters found by gradient descent algorithms.\n",
    "\n",
    "The code below uses a gradient descent method implemented in the `scipy` library to find the optimal model parameters. The contour plot shows the steps taken to reach the result (they are numbered in sequence). Note that it gets a little chaotic near the correct result; the algorithm takes large steps initially and small steps later on in order to reach the precise minimum value."
   ]
  },
  {
   "cell_type": "code",
   "execution_count": 41,
   "id": "89c4e6c4",
   "metadata": {},
   "outputs": [
    {
     "data": {
      "text/plain": [
       "      fun: 4.714732753471913\n",
       " hess_inv: array([[  0.62246827,  -7.93516263],\n",
       "       [ -7.93516263, 105.93640211]])\n",
       "      jac: array([4.17232513e-07, 5.96046448e-08])\n",
       "  message: 'Optimization terminated successfully.'\n",
       "     nfev: 51\n",
       "      nit: 12\n",
       "     njev: 17\n",
       "   status: 0\n",
       "  success: True\n",
       "        x: array([ 2.33554557, 40.97051897])"
      ]
     },
     "execution_count": 41,
     "metadata": {},
     "output_type": "execute_result"
    }
   ],
   "source": [
    "from scipy.optimize import minimize\n",
    "\n",
    "# This sets initial guess values (gradient = 3, intercept = 60) for the algorithm to\n",
    "# use as a starting point. You can change these and re-run the cell to observe the\n",
    "# different paths taken by the algorithm.\n",
    "initial_guess = (3, 60)\n",
    "\n",
    "# We'll record the different model parameters tested in these lists.\n",
    "gradient_steps = [initial_guess[0]]\n",
    "intercept_steps = [initial_guess[1]]\n",
    "\n",
    "def callback(values, *args, **kwargs):\n",
    "    \"\"\" This function is called by `minimize` whenever it takes a step. This allows the\n",
    "    steps to be recorded \"\"\"\n",
    "    gradient_steps.append(values[0])\n",
    "    intercept_steps.append(values[1])\n",
    "\n",
    "def prediction_error(coefficients):\n",
    "    \"\"\" This function is called with both coefficients (gradient and intercept) as a tuple.\n",
    "    It returns the result of the error calculation which scipy.optimise will use \"\"\"\n",
    "    gradient, intercept = coefficients\n",
    "    return prediction_root_mean_squared_error(gradient, intercept)\n",
    "\n",
    "# Run the gradient descent algorithm and extract the optimal model parameter values.\n",
    "opt_result = minimize(\n",
    "    prediction_error,      # error evaluation function\n",
    "    initial_guess,         # an initial guess of the model parameters\n",
    "    callback=callback,     # a function to record trial points\n",
    ")\n",
    "\n",
    "# This gives some status information and the model parameter results.\n",
    "opt_result"
   ]
  },
  {
   "cell_type": "code",
   "execution_count": 24,
   "id": "e022132d",
   "metadata": {},
   "outputs": [
    {
     "name": "stdout",
     "output_type": "stream",
     "text": [
      "Model is y = 2.34x + 40.97\n",
      "RMSE = 4.71\n",
      "MAE = 3.69\n"
     ]
    }
   ],
   "source": [
    "def plot_gradient_descent_path(gvals, ivals):\n",
    "    \"\"\" Plots the path taken to find the minimum value. \"\"\"\n",
    "    plt.plot(gvals, ivals, 'r-x')\n",
    "    for n, (g, i) in enumerate(zip(gvals, ivals)):\n",
    "        plt.text(g + 0.02, i + 2, str(n), color='r')\n",
    "    plt.scatter(gvals[-1], ivals[-1], c='r')\n",
    "\n",
    "def plot_predictions(gradient, intercept):\n",
    "    \"\"\" Plot the model predictions using the given parameters. \"\"\"\n",
    "    # Generate predictions using the selected gradient and intercept.\n",
    "    who_with_predictions = (\n",
    "        who_data_2015[[\"Schooling\", \"Life expectancy\"]]\n",
    "        # Add a column with a computed prediction based on years of schooling.\n",
    "        .assign(Predicted=lambda df: df[\"Schooling\"] * gradient + intercept)\n",
    "        # Discard for the moment any row where we can't make a prediction\n",
    "        # due to missing data.\n",
    "        .dropna()\n",
    "    )\n",
    "    # Plot both the predicted and actual life expectancy results against years of schooling.\n",
    "    sns.relplot(data=who_with_predictions.set_index(\"Schooling\"));\n",
    "\n",
    "optimal_gradient, optimal_intercept = opt_result.x\n",
    "rmse_plot()\n",
    "plot_gradient_descent_path(gradient_steps, intercept_steps)\n",
    "plot_predictions(optimal_gradient, optimal_intercept)\n",
    "\n",
    "# Display the model and prediction error.\n",
    "print(\"Model is y = {:.2f}x + {:.2f}\".format(optimal_gradient, optimal_intercept))\n",
    "print(\"RMSE = {:.2f}\".format(prediction_root_mean_squared_error(optimal_gradient, optimal_intercept)))\n",
    "print(\"MAE = {:.2f}\".format(prediction_mean_absolute_error(optimal_gradient, optimal_intercept)))"
   ]
  },
  {
   "cell_type": "markdown",
   "id": "1801e4ce",
   "metadata": {},
   "source": [
    "## Error Minimisation method 2: Ordinary Least Squares\n",
    "\n",
    "The sum-of-squared-errors cost function used for linear regression is mathematically 'nice'. In fact it's just a quadratic equation in two variables. It also happens to be a convex function, so the parameter values for minimum error can be found using simple calculus techniques. We won't go into the full derivation for now, but the key steps are to first construct the predictions as a matrix equation:\n",
    "\n",
    "$$\n",
    "y_{\\text{predicted}} = X \\beta\n",
    "$$\n",
    "\n",
    "where $y$ is a vector of predictions produced, $X$ is a matrix with rows and columns of the same layout as our input feature data, and $\\beta$ is a vector of our unknown parameters. Note that to make this work with an intercept term, a column of ones must be added to $X$ (this produces the `+c` term in our linear equation.\n",
    "\n",
    "In this form, the sum-of-squared-errors can be computed as:\n",
    "\n",
    "$$\n",
    "(y - X \\beta)^T (y - X \\beta)\n",
    "$$\n",
    "\n",
    "(each term in brackets here is a per-sample-point error value, the matrix dot product gives a sum of squares).\n",
    "\n",
    "Differentiating this expression to find a point with zero gradient, and solving for the parameters $\\beta$, gives the **Ordinary Least Squares (OLS)** estimators:\n",
    "\n",
    "$$\n",
    "\\beta = (X^T X)^{-1} X^T y.\n",
    "$$\n",
    "\n",
    "No need to memorise any of these; the main point here is that OLS gives us a closed-form mathematical expression for the linear regression model parameters, so they are relatively easy to compute. However, since this is a matrix equation, when the matrices become very large (i.e. when we have a lot of data), this method can become memory intensive.\n",
    "\n",
    "Below is a brief implementation of OLS:"
   ]
  },
  {
   "cell_type": "code",
   "execution_count": 25,
   "id": "590a7dcf",
   "metadata": {},
   "outputs": [
    {
     "name": "stdout",
     "output_type": "stream",
     "text": [
      "Model is y = 2.34x + 40.97\n",
      "RMSE = 4.71\n",
      "MAE = 3.69\n"
     ]
    }
   ],
   "source": [
    "# Set up the data matrices X and y (note we add a column of ones to X).\n",
    "X = np.matrix(who_data_2015[['Schooling']].assign(constant=1).values)\n",
    "y = who_data_2015[\"Life expectancy\"].values\n",
    "\n",
    "# Compute the model parameters through matrix multiplication.\n",
    "beta = np.linalg.inv(X.transpose() @ X) @ X.transpose() @ y\n",
    "optimal_gradient, optimal_intercept = beta.tolist()[0]\n",
    "\n",
    "# Plot the cost function contours and the parameter values which minimise it.\n",
    "rmse_plot()\n",
    "plt.scatter(optimal_gradient, optimal_intercept, c='r')\n",
    "plot_predictions(optimal_gradient, optimal_intercept)\n",
    "\n",
    "# Also display the prediction error.\n",
    "print(\"Model is y = {:.2f}x + {:.2f}\".format(optimal_gradient, optimal_intercept))\n",
    "print(\"RMSE = {:.2f}\".format(prediction_root_mean_squared_error(optimal_gradient, optimal_intercept)))\n",
    "print(\"MAE = {:.2f}\".format(prediction_mean_absolute_error(optimal_gradient, optimal_intercept)))"
   ]
  },
  {
   "cell_type": "markdown",
   "id": "9ff64ce6",
   "metadata": {},
   "source": [
    "Notice that this method gives the same result. Both the OLS method and gradient descent are computationally efficient in this case. If the dataset is very large we might be better off using gradient descent, but for small data the OLS method is typically faster. Once our models get more complex (as we'll see during the rest of the semester) gradient descent will need to be used as there is no mathematical expression to directly compute the model parameters."
   ]
  },
  {
   "cell_type": "markdown",
   "id": "59c2e3dc",
   "metadata": {},
   "source": [
    "## In Practice: Scikit-Learn\n",
    "\n",
    "In practice we'll use built-in functions to fit models for us. Scikit-learn's implementation of linear regression uses the OLS estimator method as above. **Focus on understanding this code** rather than the code in the previous methods, as most (if not all) of the supervised learning models you will use in this course will use almost exactly the same steps."
   ]
  },
  {
   "cell_type": "code",
   "execution_count": 26,
   "id": "09b64669",
   "metadata": {},
   "outputs": [
    {
     "name": "stdout",
     "output_type": "stream",
     "text": [
      "Model is y = 2.34x + 40.97\n",
      "RMSE = 4.71\n",
      "MAE = 3.69\n"
     ]
    }
   ],
   "source": [
    "# Import the model type we need.\n",
    "from sklearn.linear_model import LinearRegression\n",
    "\n",
    "# Set up the model type. This indicates we are fitting a linear regression model\n",
    "# and we want to include an intercept parameter.\n",
    "model = LinearRegression(fit_intercept=True)\n",
    "\n",
    "# It's good practice here to select only the columns needed for the analysis,\n",
    "# then to remove any null values. If you don't first remove the columns you are\n",
    "# not going to use, .dropna() may remove rows of data unnecessarily.\n",
    "data = who_data_2015[[\"Schooling\", \"Life expectancy\"]].dropna()\n",
    "\n",
    "data.head()\n",
    "\n",
    "# Fit the model. Note: model.fit expects a 2D array of data for X and a 1D\n",
    "# dataset for y (hence the double square bracket syntax when selecting columns\n",
    "# for X, even though we only have one input column).\n",
    "model.fit(X=data[[\"Schooling\"]], y=data[\"Life expectancy\"])\n",
    "data = who_data_2015[[\"Schooling\", \"Life expectancy\"]].dropna()\n",
    "# Extract parameters from the model. model.coef_ gives a coefficient for each\n",
    "# column of X. We are only using one input column, so the [0] element is our\n",
    "# gradient parameter.\n",
    "optimal_gradient = model.coef_[0]\n",
    "optimal_intercept = model.intercept_\n",
    "\n",
    "# Display the fitted model and prediction error measures.\n",
    "print(\"Model is y = {:.2f}x + {:.2f}\".format(optimal_gradient, optimal_intercept))\n",
    "print(\"RMSE = {:.2f}\".format(prediction_root_mean_squared_error(optimal_gradient, optimal_intercept)))\n",
    "print(\"MAE = {:.2f}\".format(prediction_mean_absolute_error(optimal_gradient, optimal_intercept)))"
   ]
  },
  {
   "cell_type": "markdown",
   "id": "3f134ea8",
   "metadata": {},
   "source": [
    "## To summarise\n",
    "\n",
    "1. In supervised learning, we need to define an error metric we are interested in which represents the predictive performance of the model.\n",
    "2. To fit the parameters of a supervised machine learning model to a training dataset, we choose model parameter values so that the error metric (cost function ) is minimised.\n",
    "3. For linear regression, ordinary least squares estimators give us the optimal model parameters directly. For many other methods, we will need to use gradient descent.\n",
    "4. This is all implemented for us (as are all the models we'll use this semester) in the scikit-learn (sklearn) library, and the code steps required in almost all cases is the same as the example above."
   ]
  },
  {
   "cell_type": "markdown",
   "id": "ac4182ac",
   "metadata": {},
   "source": [
    "## Exercises\n",
    "\n",
    "Complete these before the studio in week 4, and submit the completed notebook through Moodle."
   ]
  },
  {
   "cell_type": "markdown",
   "id": "54311d40",
   "metadata": {},
   "source": [
    "### Exercise 1\n",
    "\n",
    "Choose a different input/feature variable (other than Schooling) and fit a regression model to predict Life Expectancy using sklearn. Can you achieve a better error rate than what we found above? Suggest a method to narrow down your choices of variables to use in order to arrive at a good model."
   ]
  },
  {
   "cell_type": "markdown",
   "id": "5e1a6f97",
   "metadata": {},
   "source": [
    "the code below re-uses the plot_gradient_descent_path and plot_predictions functions but uses the \"thinness 5-9 years\" variable instead of the schooling variable. It itterates over all the variables giving us an indication of which variables have the least errors. giving us an indication of what would be good for choosing as our variables."
   ]
  },
  {
   "cell_type": "code",
   "execution_count": 38,
   "id": "ddbcd3c1",
   "metadata": {},
   "outputs": [
    {
     "name": "stdout",
     "output_type": "stream",
     "text": [
      "['Year', 'Adult Mortality', 'infant deaths', 'percentage expenditure', 'Hepatitis B', 'Measles', 'BMI', 'under-five deaths', 'Polio', 'Diphtheria', 'HIV/AIDS', 'GDP', 'Population', 'thinness  1-19 years', 'thinness 5-9 years', 'Income composition of resources', 'Schooling']\n"
     ]
    }
   ],
   "source": [
    "variable_names = who_data_2015.columns.tolist()\n",
    "\n",
    "# Remove the target variable name (\"Life expectancy\") from the list\n",
    "variable_names.remove(\"Life expectancy\")\n",
    "variable_names.remove(\"Country\")\n",
    "variable_names.remove(\"Status\")\n",
    "print(variable_names)"
   ]
  },
  {
   "cell_type": "code",
   "execution_count": 40,
   "id": "c59bdbd8",
   "metadata": {},
   "outputs": [
    {
     "name": "stdout",
     "output_type": "stream",
     "text": [
      "Year\n",
      "Model is y = 0.00x + 0.00\n",
      "RMSE = 71.19\n",
      "MAE = 70.74\n",
      "Adult Mortality\n",
      "Model is y = -0.06x + 80.07\n",
      "RMSE = 11.80\n",
      "MAE = 9.46\n",
      "infant deaths\n",
      "Model is y = -0.02x + 71.22\n",
      "RMSE = 8.01\n",
      "MAE = 6.62\n",
      "percentage expenditure\n",
      "Model is y = 0.02x + 70.69\n",
      "RMSE = 7.93\n",
      "MAE = 6.57\n",
      "Hepatitis B\n",
      "Model is y = 0.12x + 61.14\n",
      "RMSE = 11.17\n",
      "MAE = 9.63\n",
      "Measles\n",
      "Model is y = -0.00x + 70.82\n",
      "RMSE = 7.97\n",
      "MAE = 6.61\n",
      "BMI\n",
      "Model is y = 0.21x + 62.41\n",
      "RMSE = 9.44\n",
      "MAE = 8.10\n",
      "under-five deaths\n",
      "Model is y = -0.02x + 71.31\n",
      "RMSE = 8.01\n",
      "MAE = 6.60\n",
      "Polio\n",
      "Model is y = 0.16x + 58.16\n",
      "RMSE = 13.07\n",
      "MAE = 11.40\n",
      "Diphtheria\n",
      "Model is y = 0.16x + 57.48\n",
      "RMSE = 13.56\n",
      "MAE = 11.88\n",
      "HIV/AIDS\n",
      "Model is y = -3.26x + 73.31\n",
      "RMSE = 42.24\n",
      "MAE = 39.05\n",
      "GDP\n",
      "Model is y = 0.00x + 68.43\n",
      "RMSE = 8.29\n",
      "MAE = 7.03\n",
      "Population\n",
      "Model is y = -0.00x + 70.83\n",
      "RMSE = 7.97\n",
      "MAE = 6.60\n",
      "thinness  1-19 years\n",
      "Model is y = -0.84x + 74.67\n",
      "RMSE = 12.00\n",
      "MAE = 10.18\n",
      "thinness 5-9 years\n",
      "Model is y = -0.81x + 74.63\n",
      "RMSE = 11.79\n",
      "MAE = 10.01\n",
      "Income composition of resources\n",
      "Model is y = 47.50x + 38.69\n",
      "RMSE = 586.69\n",
      "MAE = 573.38\n",
      "Schooling\n",
      "Model is y = 2.34x + 40.97\n",
      "RMSE = 4.71\n",
      "MAE = 3.69\n"
     ]
    }
   ],
   "source": [
    "# Set up the data matrices X and y (note we add a column of ones to X).\n",
    "\n",
    "\n",
    "for i in variable_names: # iterrate over variables to make new parameters  \n",
    "    yness = who_data_2015[\"Life expectancy\"].dropna\n",
    "    xness = who_data_2015[[i]].dropna\n",
    "    X = np.matrix(who_data_2015[[i]].assign(constant=1).values)\n",
    "    y = who_data_2015[\"Life expectancy\"].values\n",
    "\n",
    "# Compute the model parameters through matrix multiplication.\n",
    "    beta = np.linalg.inv(X.transpose() @ X) @ X.transpose() @ y\n",
    "    optimal_gradient, optimal_intercept = beta.tolist()[0]\n",
    "\n",
    "# Plot the cost function contours and the parameter values which minimise it.\n",
    "    rmse_plot()\n",
    "    plt.scatter(optimal_gradient, optimal_intercept, c='r')\n",
    "    plot_predictions(optimal_gradient, optimal_intercept)\n",
    "\n",
    "# Also display the prediction error.\n",
    "    print(i)\n",
    "    print(\"Model is y = {:.2f}x + {:.2f}\".format(optimal_gradient, optimal_intercept))\n",
    "    print(\"RMSE = {:.2f}\".format(prediction_root_mean_squared_error(optimal_gradient, optimal_intercept)))\n",
    "    print(\"MAE = {:.2f}\".format(prediction_mean_absolute_error(optimal_gradient, optimal_intercept)))"
   ]
  },
  {
   "cell_type": "markdown",
   "id": "5418d4af",
   "metadata": {},
   "source": [
    "### Exercise 2\n",
    "\n",
    "In the above examples I have used root mean squared error (the standard cost function for linear regression) to fit the model parameters. Try re-running the `scipy.optimise` method using mean absolute error. Are the resulting model parameters the same as above? Give some brief reasoning why there might be a difference here."
   ]
  },
  {
   "cell_type": "markdown",
   "id": "f3b5f559",
   "metadata": {},
   "source": [
    "The resulting parameters are different, this is likely because the mathmatical equations used to calculate and optimize errors are different. RMSE squares the errors and MAE does not, this means that RMSE cares more about larger errors than MAE leading to a different parameter"
   ]
  },
  {
   "cell_type": "code",
   "execution_count": 48,
   "id": "62dd55f3",
   "metadata": {},
   "outputs": [
    {
     "data": {
      "text/plain": [
       "      fun: 3.685341108309409\n",
       " hess_inv: array([[1, 0],\n",
       "       [0, 1]])\n",
       "      jac: array([0., 0.])\n",
       "  message: 'Optimization terminated successfully.'\n",
       "     nfev: 3\n",
       "      nit: 0\n",
       "     njev: 1\n",
       "   status: 0\n",
       "  success: True\n",
       "        x: array([ 3., 60.])"
      ]
     },
     "execution_count": 48,
     "metadata": {},
     "output_type": "execute_result"
    }
   ],
   "source": [
    "# Hint: you only need to make one small change in the prediction_error function to do this.\n",
    "def prediction_error(coefficients):\n",
    "    \"\"\" This function is called with both coefficients (gradient and intercept) as a tuple.\n",
    "    It returns the result of the error calculation which scipy.optimise will use \"\"\"\n",
    "    gradient, intercept = coefficients\n",
    "    return prediction_mean_absolute_error(optimal_gradient, optimal_intercept)\n",
    "opt_result = minimize(\n",
    "    prediction_error,      # error evaluation function\n",
    "    initial_guess,         # an initial guess of the model parameters\n",
    "    callback=callback,     # a function to record trial points\n",
    ")\n",
    "\n",
    "# This gives some status information and the model parameter results.\n",
    "opt_result"
   ]
  },
  {
   "cell_type": "markdown",
   "id": "c1124917",
   "metadata": {},
   "source": [
    " fun: 4.714732753471913\n",
    " hess_inv: array([[  0.62246827,  -7.93516263],\n",
    "       [ -7.93516263, 105.93640211]])\n",
    "      jac: array([4.17232513e-07, 5.96046448e-08])\n",
    "  message: 'Optimization terminated successfully.'\n",
    "     nfev: 51\n",
    "      nit: 12\n",
    "     njev: 17\n",
    "   status: 0\n",
    "  success: True\n",
    "        x: array([ 2.33554557, 40.97051897])"
   ]
  },
  {
   "cell_type": "markdown",
   "id": "29bd1b2a",
   "metadata": {},
   "source": [
    "### Exercise 3\n",
    "\n",
    "We can see above that different methods for determining model parameters arrive at the same result, but what happens if we change the dataset slightly. Experiment by taking several (at least 10) different samples of the data, fitting a linear model for each one, and plotting a histogram of the different gradient and intercept coefficients you find. Is there a significant amount of variation in the parameter values?"
   ]
  },
  {
   "cell_type": "markdown",
   "id": "e6cb49c2",
   "metadata": {},
   "source": [
    "There is a small but non-dismissive amount of variation in the parameter values."
   ]
  },
  {
   "cell_type": "code",
   "execution_count": 7,
   "id": "7e345346",
   "metadata": {},
   "outputs": [
    {
     "data": {
      "image/png": "[encoded data removed]",
      "text/plain": [
       "<Figure size 640x480 with 1 Axes>"
      ]
     },
     "metadata": {},
     "output_type": "display_data"
    }
   ],
   "source": [
    "# selects a small sample of 30 random rows from the data.\n",
    "import matplotlib.pyplot as plt\n",
    "from sklearn.linear_model import LinearRegression\n",
    "gradient_values = [] #defining empty lists to be filled\n",
    "intercept_values = [] \n",
    "model = LinearRegression(fit_intercept = True)\n",
    "for i in range(100):  #100 repetitions\n",
    "    sample_data = who_data_2015.sample(30)  # randomly choose 30 rows out of the original 2015 data\n",
    "    model.fit(X=sample_data[[\"Schooling\"]], y=sample_data[\"Life expectancy\"]) #fit linear reg model on this data\n",
    "    gradient_values.insert(i,model.coef_[0])   # save current value of gradient into list\n",
    "    intercept_values.insert(i,model.intercept_)# save current value of intercept into list\n",
    "\n",
    "    \n",
    "    \n",
    "    #plotting histograms\n",
    "plt.hist(intercept_values)\n",
    "plt.xlabel('Intercept Values')\n",
    "plt.ylabel('Frequency')\n",
    "plt.title('Distribution of Intercept Values')\n",
    "plt.hist(gradient_values)\n",
    "plt.xlabel('Gradient Values')\n",
    "plt.ylabel('Frequency')\n",
    "plt.title('Distribution of Gradient Values')\n",
    "plt.show()"
   ]
  },
  {
   "cell_type": "code",
   "execution_count": null,
   "id": "9a3bbc26",
   "metadata": {},
   "outputs": [],
   "source": []
  }
 ],
 "metadata": {
  "kernelspec": {
   "display_name": "Python 3 (ipykernel)",
   "language": "python",
   "name": "python3"
  },
  "language_info": {
   "codemirror_mode": {
    "name": "ipython",
    "version": 3
   },
   "file_extension": ".py",
   "mimetype": "text/x-python",
   "name": "python",
   "nbconvert_exporter": "python",
   "pygments_lexer": "ipython3",
   "version": "3.9.13"
  }
 },
 "nbformat": 4,
 "nbformat_minor": 5
}
