{
 "cells": [
  {
   "cell_type": "markdown",
   "id": "4a8daefa",
   "metadata": {},
   "source": [
    "# Measuring Errors and Fitting Models\n",
    "\n",
    "* Topic: Supervised machine learning\n",
    "* Unit: ADS1002\n",
    "* Level: Beginner\n",
    "* Authors: Simon Bowly, Kaustav Das\n",
    "* Version: 3.2.1\n",
    "\n",
    "Required files (download these from the Gitlab site [here](https://gitlab.erc.monash.edu.au/bads/data-challenges-resources/-/tree/main/Machine-Learning/Supervised-Methods) into the same directory as the notebook on your computer):\n",
    "\n",
    "* [who-health-data.csv](https://gitlab.erc.monash.edu.au/bads/data-challenges-resources/-/tree/main/Machine-Learning/Supervised-Methods/who-health-data.csv)\n",
    "* [wisconsin-cancer-data.csv](https://gitlab.erc.monash.edu.au/bads/data-challenges-resources/-/tree/main/Machine-Learning/Supervised-Methods/kaggle-wisconsin-cancer.csv)\n",
    "\n",
    "The objective of this notebook is to help you understand some of the terminology, computations and methods behind supervised training of predictive machine learning models. Some of this content will be familiar from the last 3 weeks of ADS1001 where you looked at regression and classification models. Here we take a step back to better understand the concepts behind the modelling methods we will focus on this semester. We'll also review these concepts throughout the semester as we explore further machine learning algorithm types."
   ]
  },
  {
   "cell_type": "code",
   "execution_count": 1,
   "id": "6df0f66a",
   "metadata": {},
   "outputs": [],
   "source": [
    "# Remember these? Our usual package imports for handling data.\n",
    "import numpy as np\n",
    "import pandas as pd\n",
    "import seaborn as sns\n",
    "import matplotlib.pyplot as plt\n",
    "\n",
    "\n",
    "# Specialised functions for calculating prediction error rates.\n",
    "from sklearn.metrics import precision_score"
   ]
  },
  {
   "cell_type": "markdown",
   "id": "63e3c4ea",
   "metadata": {},
   "source": [
    "## Supervised Learning\n",
    "\n",
    "Simply put, **supervised learning** is a process of **training** a machine learning **model** based on a sampled dataset with known inputs and outputs. Two key types of supervised learning models are **regression** and **classification** models. We'll cover both this semester; and you've already seen some in semester one (linear regression and kNN classification).\n",
    "\n",
    "Let's first look at some examples of datasets used for regression and classification tasks.\n",
    "\n",
    "### WHO Life Expectancy Tables\n",
    "\n",
    "The WHO tracks various metrics for countries as they relate to life expectancy, and mortality rates of different populations. This dataset was originally found here https://www.kaggle.com/kumarajarshi/life-expectancy-who/. Here we'll consider just one input (education level), and one output (adult life expectancy). With this simple dataset we could build a model to predict average life expectancy based on education levels within a country. This is a regression task; the output variable is a continuous measure."
   ]
  },
  {
   "cell_type": "code",
   "execution_count": 2,
   "id": "09a7663a",
   "metadata": {},
   "outputs": [
    {
     "data": {
      "image/png": "[encoded data removed]",
      "text/plain": [
       "<Figure size 500x500 with 1 Axes>"
      ]
     },
     "metadata": {},
     "output_type": "display_data"
    }
   ],
   "source": [
    "# Read the dataset into a dataframe.\n",
    "who_data_2015 = (\n",
    "    pd.read_csv(\"who-health-data.csv\")        # Read in the csv data.\n",
    "    .rename(columns=lambda c: c.strip())      # Clean up column names.\n",
    "    .query(\"Year == 2015\")                    # Restrict the dataset to records from 2015.\n",
    ")\n",
    "# Plot our output vs input variable.\n",
    "sns.relplot(\n",
    "    data=who_data_2015,\n",
    "    x=\"Schooling\",\n",
    "    y=\"Life expectancy\",\n",
    ");"
   ]
  },
  {
   "cell_type": "markdown",
   "id": "5e6da115",
   "metadata": {},
   "source": [
    "### Wisconsin Breast Cancer Dataset\n",
    "\n",
    "This dataset measures various properties of breast cancer biopsy results, along with a diagnosis of whether the tumour being tested is malignant or benign. The dataset was originally found here https://archive.ics.uci.edu/ml/datasets/Breast+Cancer+Wisconsin+%28Diagnostic%29.\n",
    "\n",
    "There are many features here, but we'll consider just two: radius (size of the tissue sample) and texture (variation in colour across the surface). The diagnosis is a binary state (malignant/benign or postive/negative) so this is a classification dataset."
   ]
  },
  {
   "cell_type": "code",
   "execution_count": 3,
   "id": "9328fdb0",
   "metadata": {},
   "outputs": [],
   "source": [
    "# Read dataset into a dataframe.\n",
    "wisconsin_cancer_biopsies = (\n",
    "    pd.read_csv(\"kaggle-wisconsin-cancer.csv\")\n",
    "    # This tidies up the naming of results (M -> malignant, B -> benign)\n",
    "    .assign(diagnosis=lambda df: df['diagnosis']  \n",
    "        .map({\"M\": \"malignant\", \"B\": \"benign\"})\n",
    "        .astype('category')\n",
    "    )\n",
    ")\n",
    "# Show the true diagnosis as a function of two variables.\n",
    "sns.relplot(\n",
    "    data=wisconsin_cancer_biopsies,\n",
    "    x=\"radius_mean\",\n",
    "    y=\"texture_mean\",\n",
    "    hue=\"diagnosis\",\n",
    ");"
   ]
  },
  {
   "cell_type": "markdown",
   "id": "9d2e4e24",
   "metadata": {},
   "source": [
    "## Measures of Prediction Error\n",
    "\n",
    "Supervised learning can be thought of as selecting among many possible models/parameters for the best one which fits to the data we have. Fundamental to this idea is having a way to measure error/coming up with a useful error metric. We want to select from among candidate models the one which yields the best predictions, in other words the one with the smallest measured error.\n",
    "\n",
    "### Regression Error Metrics\n",
    "\n",
    "Let's have a look at a simple set of predictions of life expectancy based on schooling in the WHO dataset. Here we've constructed a simple prediction where\n",
    "\n",
    "$$\n",
    "\\text{Life expectancy} = 2.5 \\times \\text{Years of schooling} + 38 \\text{ years.}\n",
    "$$"
   ]
  },
  {
   "cell_type": "code",
   "execution_count": 4,
   "id": "3d3baa2e",
   "metadata": {},
   "outputs": [
    {
     "data": {
      "text/html": [
       "<div>\n",
       "<style scoped>\n",
       "    .dataframe tbody tr th:only-of-type {\n",
       "        vertical-align: middle;\n",
       "    }\n",
       "\n",
       "    .dataframe tbody tr th {\n",
       "        vertical-align: top;\n",
       "    }\n",
       "\n",
       "    .dataframe thead th {\n",
       "        text-align: right;\n",
       "    }\n",
       "</style>\n",
       "<table border=\"1\" class=\"dataframe\">\n",
       "  <thead>\n",
       "    <tr style=\"text-align: right;\">\n",
       "      <th></th>\n",
       "      <th>Schooling</th>\n",
       "      <th>Life expectancy</th>\n",
       "      <th>Predicted</th>\n",
       "    </tr>\n",
       "  </thead>\n",
       "  <tbody>\n",
       "    <tr>\n",
       "      <th>0</th>\n",
       "      <td>10.1</td>\n",
       "      <td>65.0</td>\n",
       "      <td>63.25</td>\n",
       "    </tr>\n",
       "    <tr>\n",
       "      <th>16</th>\n",
       "      <td>14.2</td>\n",
       "      <td>77.8</td>\n",
       "      <td>73.50</td>\n",
       "    </tr>\n",
       "    <tr>\n",
       "      <th>32</th>\n",
       "      <td>14.4</td>\n",
       "      <td>75.6</td>\n",
       "      <td>74.00</td>\n",
       "    </tr>\n",
       "    <tr>\n",
       "      <th>48</th>\n",
       "      <td>11.4</td>\n",
       "      <td>52.4</td>\n",
       "      <td>66.50</td>\n",
       "    </tr>\n",
       "    <tr>\n",
       "      <th>64</th>\n",
       "      <td>13.9</td>\n",
       "      <td>76.4</td>\n",
       "      <td>72.75</td>\n",
       "    </tr>\n",
       "    <tr>\n",
       "      <th>80</th>\n",
       "      <td>17.3</td>\n",
       "      <td>76.3</td>\n",
       "      <td>81.25</td>\n",
       "    </tr>\n",
       "    <tr>\n",
       "      <th>96</th>\n",
       "      <td>12.7</td>\n",
       "      <td>74.8</td>\n",
       "      <td>69.75</td>\n",
       "    </tr>\n",
       "    <tr>\n",
       "      <th>112</th>\n",
       "      <td>20.4</td>\n",
       "      <td>82.8</td>\n",
       "      <td>89.00</td>\n",
       "    </tr>\n",
       "    <tr>\n",
       "      <th>128</th>\n",
       "      <td>15.9</td>\n",
       "      <td>81.5</td>\n",
       "      <td>77.75</td>\n",
       "    </tr>\n",
       "    <tr>\n",
       "      <th>144</th>\n",
       "      <td>12.7</td>\n",
       "      <td>72.7</td>\n",
       "      <td>69.75</td>\n",
       "    </tr>\n",
       "  </tbody>\n",
       "</table>\n",
       "</div>"
      ],
      "text/plain": [
       "     Schooling  Life expectancy  Predicted\n",
       "0         10.1             65.0      63.25\n",
       "16        14.2             77.8      73.50\n",
       "32        14.4             75.6      74.00\n",
       "48        11.4             52.4      66.50\n",
       "64        13.9             76.4      72.75\n",
       "80        17.3             76.3      81.25\n",
       "96        12.7             74.8      69.75\n",
       "112       20.4             82.8      89.00\n",
       "128       15.9             81.5      77.75\n",
       "144       12.7             72.7      69.75"
      ]
     },
     "execution_count": 4,
     "metadata": {},
     "output_type": "execute_result"
    }
   ],
   "source": [
    "who_with_predictions = (\n",
    "    who_data_2015[[\"Schooling\", \"Life expectancy\"]]\n",
    "    # Add a column with a computed prediction based on years of schooling.\n",
    "    .assign(Predicted=lambda df: df[\"Schooling\"] * 5/2 + 38)\n",
    "    # Discard for the moment any row where we can't make a prediction\n",
    "    # due to missing data.\n",
    "    .dropna()\n",
    ")\n",
    "# Plot both the predicted and actual life expectancy results against years of schooling.\n",
    "sns.relplot(data=who_with_predictions.set_index(\"Schooling\"));\n",
    "who_with_predictions.head(10)"
   ]
  },
  {
   "cell_type": "markdown",
   "id": "d0b6970f",
   "metadata": {},
   "source": [
    "For each sample point in the dataset, we compute prediction error by finding the difference between the value predicted by our simple model and the actual value. Below these errors are plotted as a histogram. We can see there is a roughly even spread of over- and under- predictions."
   ]
  },
  {
   "cell_type": "code",
   "execution_count": 5,
   "id": "a2ecd02f",
   "metadata": {},
   "outputs": [],
   "source": [
    "# Compute errors (difference between predicted and correct values).\n",
    "errors = who_with_predictions['Life expectancy'] - who_with_predictions['Predicted']\n",
    "# Plot the errors as a histogram.\n",
    "ax = sns.histplot(errors)\n",
    "ax.set_xlabel(\"Prediction Error (Years)\");"
   ]
  },
  {
   "cell_type": "markdown",
   "id": "8f2175cb",
   "metadata": {},
   "source": [
    "From these errors, we can compute a single statistic representing the prediction error of this model. This is typically the Mean Absolute Error: average deviation of predictions from the true value. Mathematically:\n",
    "$$\n",
    "\\text{MAE} = \\frac{1}{N} \\sum_{i \\in N} \\left| y^{\\text{predicted}}_i - y^{\\text{actual}}_i \\right|\n",
    "$$\n",
    "where there are $N$ samples in the **training set**."
   ]
  },
  {
   "cell_type": "code",
   "execution_count": 6,
   "id": "f2353a72",
   "metadata": {},
   "outputs": [
    {
     "name": "stdout",
     "output_type": "stream",
     "text": [
      "Mean absolute error is 3.9 years\n"
     ]
    }
   ],
   "source": [
    "# Compute mean absolute error.\n",
    "mae_score = errors.abs().mean()\n",
    "print(f\"Mean absolute error is {mae_score:.1f} years\")"
   ]
  },
  {
   "cell_type": "markdown",
   "id": "e0f56ab0",
   "metadata": {},
   "source": [
    "### Classification Error Metrics\n",
    "\n",
    "In classification tasks, we break down several statistics based on the number of correct and incorrect predictions, and the number of those which correspond to positive and negative labels. Let's look at a small subset of the biopsy data to understand these metrics."
   ]
  },
  {
   "cell_type": "code",
   "execution_count": 7,
   "id": "2ee94ea4",
   "metadata": {},
   "outputs": [],
   "source": [
    "# Plot a small set of 20 sample points.\n",
    "# .sample(20) selects 20 random points. Using the random_state parameter\n",
    "# ensures that the selected points are always the same.\n",
    "sns.relplot(\n",
    "    data=wisconsin_cancer_biopsies.sample(20, random_state=162346),\n",
    "    x=\"radius_mean\",\n",
    "    y=\"texture_mean\",\n",
    "    hue=\"diagnosis\",\n",
    ");"
   ]
  },
  {
   "cell_type": "markdown",
   "id": "fc7e68ba",
   "metadata": {},
   "source": [
    "As an example, we develop a simple prediction here: all tests with a `radius_mean` value of less than 14 is considered benign, and anything larger is considered malignant. Below we plot a breakdown of the data by both its predicted label and its correct label."
   ]
  },
  {
   "cell_type": "code",
   "execution_count": 8,
   "id": "45c045f5",
   "metadata": {},
   "outputs": [],
   "source": [
    "biopsies_with_predictions = (\n",
    "    wisconsin_cancer_biopsies.sample(20, random_state=162346)\n",
    "    # Apply a simple rule for prediction (based only on radius)\n",
    "    # and add the prediction result as a column.\n",
    "    .assign(predicted=lambda df: df['radius_mean'].lt(14)\n",
    "        .map({True: \"benign\", False: \"malignant\"})\n",
    "    )\n",
    ")\n",
    "sns.relplot(\n",
    "    data=biopsies_with_predictions,\n",
    "    x=\"radius_mean\",\n",
    "    y=\"texture_mean\",\n",
    "    hue=\"diagnosis\",\n",
    "    hue_order=[\"malignant\", \"benign\"],\n",
    "    col=\"predicted\",\n",
    "    col_order=[\"malignant\", \"benign\"],\n",
    ");"
   ]
  },
  {
   "cell_type": "markdown",
   "id": "26737746",
   "metadata": {},
   "source": [
    "Visualising the data this way, we can define categories of the data points by example. We'll call a malignant sample a 'positive' classification, and benign a 'negative'. So we have:\n",
    "\n",
    "* 7 **True positives** (cases where we correctly predicted a malignant, or 'positive', sample)\n",
    "* 10 **True negatives** (cases where we correctly predicted a benign, or 'negative', sample)\n",
    "* 1 **False positive** (we predicted malignant, but the sample is actually benign)\n",
    "* 2 **False negatives** (we predicted benign, but the sample is actually malignant)"
   ]
  },
  {
   "cell_type": "code",
   "execution_count": 9,
   "id": "450afefb",
   "metadata": {},
   "outputs": [
    {
     "data": {
      "text/html": [
       "<div>\n",
       "<style scoped>\n",
       "    .dataframe tbody tr th:only-of-type {\n",
       "        vertical-align: middle;\n",
       "    }\n",
       "\n",
       "    .dataframe tbody tr th {\n",
       "        vertical-align: top;\n",
       "    }\n",
       "\n",
       "    .dataframe thead th {\n",
       "        text-align: right;\n",
       "    }\n",
       "</style>\n",
       "<table border=\"1\" class=\"dataframe\">\n",
       "  <thead>\n",
       "    <tr style=\"text-align: right;\">\n",
       "      <th>predicted</th>\n",
       "      <th>benign</th>\n",
       "      <th>malignant</th>\n",
       "    </tr>\n",
       "    <tr>\n",
       "      <th>diagnosis</th>\n",
       "      <th></th>\n",
       "      <th></th>\n",
       "    </tr>\n",
       "  </thead>\n",
       "  <tbody>\n",
       "    <tr>\n",
       "      <th>benign</th>\n",
       "      <td>10</td>\n",
       "      <td>1</td>\n",
       "    </tr>\n",
       "    <tr>\n",
       "      <th>malignant</th>\n",
       "      <td>2</td>\n",
       "      <td>7</td>\n",
       "    </tr>\n",
       "  </tbody>\n",
       "</table>\n",
       "</div>"
      ],
      "text/plain": [
       "predicted  benign  malignant\n",
       "diagnosis                   \n",
       "benign         10          1\n",
       "malignant       2          7"
      ]
     },
     "execution_count": 9,
     "metadata": {},
     "output_type": "execute_result"
    }
   ],
   "source": [
    "# I've counted the above results manually from the plot; here's\n",
    "# one way to compute these counts automatically.\n",
    "biopsies_with_predictions.groupby(['diagnosis', 'predicted'])['id'].count().unstack()"
   ]
  },
  {
   "cell_type": "markdown",
   "id": "7ce651bb",
   "metadata": {},
   "source": [
    "As with Mean Absolute Error in the regression task, we would prefer a measure which is somehow averaged, so that it isn't affected by the size of the dataset. The metrics we use are **accuracy**, **precision** and **recall**. These terms are defined below and computed for this case.\n",
    "\n",
    "* Accuracy: proportion of all predictions that were correct.\n",
    "* Precision: proportion of positive predictions which were correct.\n",
    "* Recall: proporition of actual positive results which were correctly identified.\n",
    "\n",
    "We typically report all of these metrics for a classification task, however depending on the context, different metrics may be considered more important (we might be happy with higher precision or better recall at the expense of accuracy). It's not always the case that higher accuracy is preferred."
   ]
  },
  {
   "cell_type": "code",
   "execution_count": 10,
   "id": "0e8b1c46",
   "metadata": {},
   "outputs": [
    {
     "name": "stdout",
     "output_type": "stream",
     "text": [
      "Accuracy = (TP + TN) / TOTAL = 0.850\n",
      "Precision = TP / (TP + FP) = 0.875\n",
      "Recall = TP / (TP + FN) = 0.778\n"
     ]
    }
   ],
   "source": [
    "TP = 7   # True positives\n",
    "TN = 10  # True negatives\n",
    "FP = 1   # False positives\n",
    "FN = 2   # False negatives\n",
    "TOTAL = TP + TN + FP + FN\n",
    "\n",
    "print(f\"Accuracy = {(TP + TN) / TOTAL = :.3f}\")\n",
    "print(f\"Precision = {TP / (TP + FP) = :.3f}\")\n",
    "print(f\"Recall = {TP / (TP + FN) = :.3f}\")"
   ]
  },
  {
   "cell_type": "code",
   "execution_count": 11,
   "id": "16d98e01",
   "metadata": {},
   "outputs": [
    {
     "data": {
      "text/plain": [
       "0.875"
      ]
     },
     "execution_count": 11,
     "metadata": {},
     "output_type": "execute_result"
    }
   ],
   "source": [
    "# These metrics can (and should!) be calculated automatically using sklearn's\n",
    "# scoring functions. They are calculated manually above to show the process,\n",
    "# but you should get used to using these built in methods.\n",
    "precision_score(\n",
    "    y_true=biopsies_with_predictions['diagnosis'],\n",
    "    y_pred=biopsies_with_predictions['predicted'],\n",
    "    pos_label=\"malignant\",  # we need to identify which value should\n",
    "                            # be considered 'positive' for this metric\n",
    ")"
   ]
  },
  {
   "cell_type": "markdown",
   "id": "18d350a9",
   "metadata": {},
   "source": [
    "## Model Fitting\n",
    "\n",
    "Machine learning models have an underlying mathematical form; the output prediction is given as a (sometimes complex) mathematical function of the input data. This mathematical function has **parameters** we need to set when choosing the model. Examples of these parameters are the gradient and intercept (2.5 and 38, respectively) of the life expectancy prediction model above, or the radius_mean cutoff value (14) in the biopsy diagnosis model.\n",
    "\n",
    "For example we might propose more general models to those we have briefly introduced above. Using two parameters $M$ and $C$, we could suggest models of the form:\n",
    "\n",
    "$$\n",
    "\\text{Life expectancy} = M \\times \\text{Years of schooling} + C \\text{ years}\n",
    "$$\n",
    "\n",
    "or for the cancer biopsy dataset, we could suggest a model using a single parameter $R$:\n",
    "\n",
    "$$\n",
    "\\text{Predicted diagnosis} = \\begin{cases}\n",
    "\\text{malignant, if radius_mean} \\ge R \\\\\n",
    "\\text{benign, otherwise.} \\\\\n",
    "\\end{cases}\n",
    "$$\n",
    "\n",
    "When **fitting** a model to the data, we aim to choose parameter values ($M$, $C$, and $R$) automatically which minimise our error rates. This process is a form of **optimisation**, and involves computing a **cost function** as a function of the model parameters. This cost function usually closely aligns with one of the error metrics discussed above. An optimisation algorithm finds the parameter values which minimise this cost function, hence giving the lowest possible rate of error.\n",
    "\n",
    "The code below shows how the cost function varies for a simple one-parameter model for the regression task on the WHO dataset."
   ]
  },
  {
   "cell_type": "code",
   "execution_count": 12,
   "id": "15781168",
   "metadata": {},
   "outputs": [],
   "source": [
    "# Note, this is a laborious way to do this; it is intended as an illustration.\n",
    "# In practice, we'll use automated methods to fit models (mostly in the sklearn\n",
    "# library).\n",
    "\n",
    "def prediction_error(m):\n",
    "    \"\"\" Return the prediction error associated with the value\n",
    "    of the parameter. Note that this model uses only a single\n",
    "    parameter - the intercept C is fixed by the choice of M.\n",
    "    \"\"\"\n",
    "    who_with_predictions = (\n",
    "        who_data_2015[[\"Schooling\", \"Life expectancy\"]]\n",
    "        # Add a column for our predictions.\n",
    "        .assign(Predicted=lambda df: df[\"Schooling\"] * m + 73 - 13 * m)\n",
    "        .dropna()\n",
    "    )\n",
    "    errors = who_with_predictions['Life expectancy'] - who_with_predictions['Predicted']\n",
    "    return errors.abs().mean()\n",
    "\n",
    "# Create a dataframe with a column for test values of the parameter m\n",
    "# and another column for the associated MAE of the prediction.\n",
    "test_parameter_values = np.arange(1, 3, 0.1)  # Values spread across the interval 1 -> 3, separated by 0.1\n",
    "cost_function_results = pd.DataFrame({\n",
    "    \"Parameter Value\": test_parameter_values,\n",
    "    # Use a Python list comprehension to find MAE for each proposed parameter value.\n",
    "    \"MAE\": [prediction_error(m) for m in test_parameter_values],\n",
    "})\n",
    "sns.relplot(\n",
    "    data=cost_function_results,\n",
    "    x=\"Parameter Value\",\n",
    "    y=\"MAE\"\n",
    ");"
   ]
  },
  {
   "cell_type": "markdown",
   "id": "39881e4c",
   "metadata": {},
   "source": [
    "This is an illustration of the **cost function** of this model: how the error measure varies with the parameter value choice. We can see that the lowest MAE is at around about a parameter value of $2.0$. Selecting this parameter value gives our **fitted model**. You'll see that this model has a slightly lower error (below $3.6$, where previously we saw $3.9$) than the choice we made earlier. The predictions made by this model are shown below."
   ]
  },
  {
   "cell_type": "code",
   "execution_count": 13,
   "id": "e75d5c64",
   "metadata": {},
   "outputs": [
    {
     "data": {
      "text/html": [
       "<div>\n",
       "<style scoped>\n",
       "    .dataframe tbody tr th:only-of-type {\n",
       "        vertical-align: middle;\n",
       "    }\n",
       "\n",
       "    .dataframe tbody tr th {\n",
       "        vertical-align: top;\n",
       "    }\n",
       "\n",
       "    .dataframe thead th {\n",
       "        text-align: right;\n",
       "    }\n",
       "</style>\n",
       "<table border=\"1\" class=\"dataframe\">\n",
       "  <thead>\n",
       "    <tr style=\"text-align: right;\">\n",
       "      <th></th>\n",
       "      <th>Schooling</th>\n",
       "      <th>Life expectancy</th>\n",
       "      <th>Predicted</th>\n",
       "    </tr>\n",
       "  </thead>\n",
       "  <tbody>\n",
       "    <tr>\n",
       "      <th>0</th>\n",
       "      <td>10.1</td>\n",
       "      <td>65.0</td>\n",
       "      <td>67.2</td>\n",
       "    </tr>\n",
       "    <tr>\n",
       "      <th>16</th>\n",
       "      <td>14.2</td>\n",
       "      <td>77.8</td>\n",
       "      <td>75.4</td>\n",
       "    </tr>\n",
       "    <tr>\n",
       "      <th>32</th>\n",
       "      <td>14.4</td>\n",
       "      <td>75.6</td>\n",
       "      <td>75.8</td>\n",
       "    </tr>\n",
       "    <tr>\n",
       "      <th>48</th>\n",
       "      <td>11.4</td>\n",
       "      <td>52.4</td>\n",
       "      <td>69.8</td>\n",
       "    </tr>\n",
       "    <tr>\n",
       "      <th>64</th>\n",
       "      <td>13.9</td>\n",
       "      <td>76.4</td>\n",
       "      <td>74.8</td>\n",
       "    </tr>\n",
       "  </tbody>\n",
       "</table>\n",
       "</div>"
      ],
      "text/plain": [
       "    Schooling  Life expectancy  Predicted\n",
       "0        10.1             65.0       67.2\n",
       "16       14.2             77.8       75.4\n",
       "32       14.4             75.6       75.8\n",
       "48       11.4             52.4       69.8\n",
       "64       13.9             76.4       74.8"
      ]
     },
     "execution_count": 13,
     "metadata": {},
     "output_type": "execute_result"
    }
   ],
   "source": [
    "m = 2.0\n",
    "who_with_predictions = (\n",
    "    who_data_2015[[\"Schooling\", \"Life expectancy\"]]\n",
    "    .assign(Predicted=lambda df: df[\"Schooling\"] * m + 73 - 13 * m)\n",
    "    .dropna()\n",
    ")\n",
    "sns.relplot(data=who_with_predictions.set_index(\"Schooling\"));\n",
    "who_with_predictions.head()"
   ]
  },
  {
   "cell_type": "markdown",
   "id": "78c9cd59",
   "metadata": {},
   "source": [
    "## Testing and Training\n",
    "\n",
    "The above examples outline the process of **training** a supervised machine learning model: fitting it to known data by choosing its parameters so that error is minimised. In practice, we need to split our data into training and testing sets before conducting the training process. The cost function for fitting the model is based on the training data, but we use the test data to assess how the fitted model performs and compute our final estimates of model error."
   ]
  },
  {
   "cell_type": "markdown",
   "id": "82874526",
   "metadata": {},
   "source": [
    "## Exercises\n",
    "\n",
    "Complete these before the studio in week 3, and submit the completed notebook through Moodle."
   ]
  },
  {
   "cell_type": "markdown",
   "id": "74e823bd",
   "metadata": {},
   "source": [
    "### Exercise 1\n",
    "\n",
    "Given the dataframe `ex1_who_with_predictions` below, compute the Mean Absolute Error for the predicted values of life expectancy. You can repeat the process previously shown, or find a function in `sklearn.metrics` to compute this for you."
   ]
  },
  {
   "cell_type": "code",
   "execution_count": 14,
   "id": "b0ce618f",
   "metadata": {},
   "outputs": [
    {
     "name": "stdout",
     "output_type": "stream",
     "text": [
      "3.5916763005780346\n"
     ]
    }
   ],
   "source": [
    "from sklearn.metrics import mean_absolute_error\n",
    "ex1_who_with_predictions = (\n",
    "    who_data_2015[[\"Schooling\", \"Life expectancy\"]]\n",
    "    .assign(Predicted=lambda df: df[\"Schooling\"] * 2.3 + 43)\n",
    "    .dropna()\n",
    ")\n",
    "ex1_who_with_predictions.head()\n",
    "mae = mean_absolute_error(ex1_who_with_predictions[\"Life expectancy\"], ex1_who_with_predictions[\"Predicted\"]) #all i did was find an sklearn function to do it for me, otherwise I would have copied\n",
    "print(mae)"
   ]
  },
  {
   "cell_type": "markdown",
   "id": "d380e650",
   "metadata": {},
   "source": [
    "### Exercise 2\n",
    "\n",
    "Given the classification predictions and actual results in the dataframe `ex2_biopsies_with_predictions` below, compute accuracy, precision and recall. Also find the number of false negatives."
   ]
  },
  {
   "cell_type": "code",
   "execution_count": 15,
   "id": "5f0d649c",
   "metadata": {},
   "outputs": [
    {
     "name": "stdout",
     "output_type": "stream",
     "text": [
      "number of false negatives is:  70\n",
      "Accuracy = (TP + TN) / TOTAL = 0.731\n",
      "Precision = TP / (TP + FP) = 0.631\n",
      "Recall = TP / (TP + FN) = 0.670\n"
     ]
    }
   ],
   "source": [
    "ex2_biopsies_with_predictions = (\n",
    "    wisconsin_cancer_biopsies\n",
    "    .assign(prediction=lambda df: df['texture_mean'].lt(20)\n",
    "        .map({True: \"benign\", False: \"malignant\"})\n",
    "    )\n",
    "    [['radius_mean', 'texture_mean', 'diagnosis', 'prediction']]\n",
    ")\n",
    "ex2_biopsies_with_predictions.head()\n",
    "\n",
    "TP = 0    \n",
    "for i, row in ex2_biopsies_with_predictions.iterrows():\n",
    "    if row[\"diagnosis\"] == row[\"prediction\"] and row[\"diagnosis\"] == \"malignant\":\n",
    "        TP = TP + 1\n",
    "TN = 0 \n",
    "for i, row in ex2_biopsies_with_predictions.iterrows():\n",
    "    if row[\"diagnosis\"] == row[\"prediction\"] and row[\"diagnosis\"] == \"benign\":\n",
    "        TN = TN + 1\n",
    "FP = 0   \n",
    "for i, row in ex2_biopsies_with_predictions.iterrows():\n",
    "    if row[\"diagnosis\"] != row[\"prediction\"] and row[\"diagnosis\"] == \"benign\":\n",
    "        FP = FP + 1\n",
    "FN = 0  \n",
    "for i, row in ex2_biopsies_with_predictions.iterrows():\n",
    "    if row[\"diagnosis\"] != row[\"prediction\"] and row[\"diagnosis\"] == \"malignant\":\n",
    "        FN = FN + 1\n",
    "TOTAL = TP + TN + FP + FN\n",
    "print(\"number of false negatives is: \",FN)\n",
    "print(f\"Accuracy = {(TP + TN) / TOTAL = :.3f}\")\n",
    "print(f\"Precision = {TP / (TP + FP) = :.3f}\")\n",
    "print(f\"Recall = {TP / (TP + FN) = :.3f}\")"
   ]
  },
  {
   "cell_type": "code",
   "execution_count": null,
   "id": "e86dcd17",
   "metadata": {},
   "outputs": [],
   "source": []
  },
  {
   "cell_type": "markdown",
   "id": "2442f1dc",
   "metadata": {},
   "source": [
    "### Exercise 3\n",
    "\n",
    "Consider three different predictors for the cancer biopsy screening dataset:\n",
    "\n",
    "* Predictor A has an accuracy of 0.95, and recall of 0.99\n",
    "* Predictor B has an accuracy of 0.99, and recall of 0.95\n",
    "* Predictor C has an accuracy of 0.5, and a recall of 1.0\n",
    "\n",
    "The test required to collect data from a new patient (on which the predictor will give a predicted diagnosis) is minimally invasive. If the predictor predicts a positive (malignant) diagnosis, the patient will be referred for further screening which can be expensive.\n",
    "\n",
    "Considering the context, which predictive model (A, B, or C) would likely be preferred for this task? Write your answer in a markdown cell below, and give a brief explanation of your reasoning."
   ]
  },
  {
   "cell_type": "markdown",
   "id": "89f1fbd2",
   "metadata": {},
   "source": [
    "Since the patient was tested positive, it will be best to use predictor A, A is better in this context because the higher recall means that more positive predictions were correct, not taking as many negative predictions into account which for this context, we know the new patient has received a positive prediction so recall will be better preffered."
   ]
  },
  {
   "cell_type": "markdown",
   "id": "97c7caa6",
   "metadata": {},
   "source": [
    "### Exercise 4\n",
    "\n",
    "The function `model_correct_predictions` below returns the number of correct predictions made by a predictive model for the cancer biopsy dataset, for a given parameter value. This parameter value simply controls the threshold value for radius above which a sample is predicted as malignant.\n",
    "\n",
    "Try different values of the parameter in this model within the range [0, 30]. Record and plot the resulting accuracy values against the parameter value (similar to the regression cost function example above).\n",
    "\n",
    "What value of the parameter provides the best error rate? Explain how can you be confident you have found the best result here."
   ]
  },
  {
   "cell_type": "markdown",
   "id": "a67c347b",
   "metadata": {},
   "source": [
    "the following program defines a function to return the number of correct predictions made by a predictive model for the cancer biopsy dataset, for a given parameter value then it iterates trying different parameter values and and prints them out as a list"
   ]
  },
  {
   "cell_type": "code",
   "execution_count": 17,
   "id": "8cd0a26e",
   "metadata": {},
   "outputs": [
    {
     "name": "stdout",
     "output_type": "stream",
     "text": [
      "[0.37258347978910367, 0.37258347978910367, 0.37258347978910367, 0.37258347978910367, 0.37258347978910367, 0.37258347978910367, 0.37258347978910367, 0.37434094903339193, 0.37961335676625657, 0.4007029876977153, 0.45518453427065025, 0.5184534270650264, 0.648506151142355, 0.7803163444639719, 0.8523725834797891, 0.8875219683655536, 0.8541300527240774, 0.8312829525483304, 0.789103690685413, 0.7539543057996485, 0.7065026362038664, 0.6660808435852372, 0.6520210896309314, 0.648506151142355, 0.6397188049209139, 0.6362038664323374, 0.632688927943761, 0.632688927943761, 0.6291739894551845, 0.6274165202108963, 0.6274165202108963]\n"
     ]
    },
    {
     "data": {
      "image/png": "[encoded data removed]",
      "text/plain": [
       "<Figure size 640x480 with 1 Axes>"
      ]
     },
     "metadata": {},
     "output_type": "display_data"
    }
   ],
   "source": [
    "\n",
    "def model_correct_predictions(radius_split_parameter):\n",
    "    \"\"\" Return the number of correct predictions made by the model\n",
    "    for the given parameter value. \"\"\"\n",
    "    data = wisconsin_cancer_biopsies.assign(\n",
    "        predicted=lambda df: df['radius_mean'].lt(radius_split_parameter)\n",
    "            .map({True: \"benign\", False: \"malignant\"})\n",
    "    )\n",
    "    return (data['diagnosis'] == data['predicted']).sum()\n",
    "value_list = []\n",
    "x_list = []\n",
    "xx = 0\n",
    "for parameter_value in range(0,31): #this iterates over different values and prints them out as a list\n",
    "    mcp = model_correct_predictions(parameter_value)\n",
    "    av = mcp / len(wisconsin_cancer_biopsies)\n",
    "    x_list.append(xx)\n",
    "    xx = xx + 1\n",
    "    value_list.append(av)\n",
    "    \n",
    "print(value_list)\n",
    "sns.scatterplot(x=x_list, y=value_list)\n",
    "plt.xlabel(\"Parameter Value\")\n",
    "plt.ylabel(\"Accuracy\")\n",
    "plt.title(\"Accuracy vs. Parameter Value\")\n",
    "plt.show()\n",
    "\n"
   ]
  },
  {
   "cell_type": "markdown",
   "id": "96a16b1a",
   "metadata": {},
   "source": [
    "16 is the best value to provide the best error rate as the number of correct predictions made by the predictive model was highest at the value of 16."
   ]
  },
  {
   "cell_type": "code",
   "execution_count": null,
   "id": "530048e8",
   "metadata": {},
   "outputs": [],
   "source": []
  },
  {
   "cell_type": "code",
   "execution_count": null,
   "id": "b35d65fc",
   "metadata": {},
   "outputs": [],
   "source": []
  },
  {
   "cell_type": "code",
   "execution_count": null,
   "id": "7e8125a4",
   "metadata": {},
   "outputs": [],
   "source": []
  }
 ],
 "metadata": {
  "kernelspec": {
   "display_name": "Python 3 (ipykernel)",
   "language": "python",
   "name": "python3"
  },
  "language_info": {
   "codemirror_mode": {
    "name": "ipython",
    "version": 3
   },
   "file_extension": ".py",
   "mimetype": "text/x-python",
   "name": "python",
   "nbconvert_exporter": "python",
   "pygments_lexer": "ipython3",
   "version": "3.9.13"
  }
 },
 "nbformat": 4,
 "nbformat_minor": 5
}
